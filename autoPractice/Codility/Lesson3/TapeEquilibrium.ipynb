{
 "cells": [
  {
   "cell_type": "markdown",
   "metadata": {},
   "source": [
    "A non-empty array A consisting of N integers is given. Array A represents numbers on a tape.\n",
    "\n",
    "Any integer P, such that 0 < P < N, splits this tape into two non-empty parts: A[0], A[1], ..., A[P − 1] and A[P], A[P + 1], ..., A[N − 1].\n",
    "\n",
    "The difference between the two parts is the value of: |(A[0] + A[1] + ... + A[P − 1]) − (A[P] + A[P + 1] + ... + A[N − 1])|\n",
    "\n",
    "In other words, it is the absolute difference between the sum of the first part and the sum of the second part.\n",
    "\n",
    "For example, consider array A such that:\n",
    "\n",
    "  A[0] = 3\n",
    "  A[1] = 1\n",
    "  A[2] = 2\n",
    "  A[3] = 4\n",
    "  A[4] = 3\n",
    "We can split this tape in four places:\n",
    "\n",
    "P = 1, difference = |3 − 10| = 7 \n",
    "P = 2, difference = |4 − 9| = 5 \n",
    "P = 3, difference = |6 − 7| = 1 \n",
    "P = 4, difference = |10 − 3| = 7 \n",
    "Write a function:\n",
    "\n",
    "def solution(A)\n",
    "\n",
    "that, given a non-empty array A of N integers, returns the minimal difference that can be achieved.\n",
    "\n",
    "For example, given:\n",
    "\n",
    "  A[0] = 3\n",
    "  A[1] = 1\n",
    "  A[2] = 2\n",
    "  A[3] = 4\n",
    "  A[4] = 3\n",
    "the function should return 1, as explained above.\n",
    "\n",
    "Assume that:\n",
    "\n",
    "N is an integer within the range [2..100,000];\n",
    "each element of array A is an integer within the range [−1,000..1,000].\n",
    "Complexity:\n",
    "\n",
    "expected worst-case time complexity is O(N);\n",
    "expected worst-case space complexity is O(N) (not counting the storage required for input arguments).\n"
   ]
  },
  {
   "cell_type": "code",
   "execution_count": 63,
   "metadata": {},
   "outputs": [],
   "source": [
    "            \n",
    "def getdiff(right,left):\n",
    "    return(abs(right - left ))\n",
    "\n",
    "def getminimum(A):\n",
    "    summ = sum(A)\n",
    "    left = A[0]\n",
    "    right = summ - left\n",
    "    mini = abs(right - left) \n",
    "    for P in range(1,len(A)-1):\n",
    "        left = left + A[P]\n",
    "        right = right - A[P]\n",
    "        mini = abs(right - left) if mini > abs(right - left) else mini\n",
    "    return(mini)\n",
    "    \n",
    "def solution(A):\n",
    "    return getminimum(A)\n",
    "    "
   ]
  },
  {
   "cell_type": "code",
   "execution_count": 64,
   "metadata": {},
   "outputs": [
    {
     "name": "stdout",
     "output_type": "stream",
     "text": [
      "1\n"
     ]
    }
   ],
   "source": [
    "A = [3, 1, 2, 4, 3]\n",
    "print(solution(A))"
   ]
  },
  {
   "cell_type": "code",
   "execution_count": 27,
   "metadata": {},
   "outputs": [
    {
     "data": {
      "text/plain": [
       "14"
      ]
     },
     "execution_count": 27,
     "metadata": {},
     "output_type": "execute_result"
    }
   ],
   "source": [
    "sum(A[0:])"
   ]
  },
  {
   "cell_type": "code",
   "execution_count": null,
   "metadata": {
    "collapsed": true
   },
   "outputs": [],
   "source": []
  }
 ],
 "metadata": {
  "kernelspec": {
   "display_name": "Python 3",
   "language": "python",
   "name": "python3"
  },
  "language_info": {
   "codemirror_mode": {
    "name": "ipython",
    "version": 3
   },
   "file_extension": ".py",
   "mimetype": "text/x-python",
   "name": "python",
   "nbconvert_exporter": "python",
   "pygments_lexer": "ipython3",
   "version": "3.6.3"
  }
 },
 "nbformat": 4,
 "nbformat_minor": 2
}
