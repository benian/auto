{
 "cells": [
  {
   "cell_type": "code",
   "execution_count": 44,
   "metadata": {},
   "outputs": [],
   "source": [
    "def solution(A):\n",
    "    country = 0\n",
    "    color = 0\n",
    "    for N in range(len(A)):\n",
    "        print(country)\n",
    "        color = 0\n",
    "        for M in range(len(A[0])):\n",
    "            if A[N][M]!= color:\n",
    "                country += 1\n",
    "                if (N-1)>=0 :\n",
    "                    if  A[N][M] == A[N-1][M]:\n",
    "                        country -= 1\n",
    "                        #color = A[N][M]\n",
    "                #if (M-1)>0 :\n",
    "                #print (N,M)\n",
    "            color = A[N][M]\n",
    "                \n",
    "    \n",
    "    print(country)\n"
   ]
  },
  {
   "cell_type": "code",
   "execution_count": 45,
   "metadata": {},
   "outputs": [
    {
     "name": "stdout",
     "output_type": "stream",
     "text": [
      "0\n",
      "2\n",
      "4\n",
      "6\n",
      "7\n",
      "9\n",
      "11\n",
      "13\n"
     ]
    }
   ],
   "source": [
    "A = [[5,4,4],\n",
    "     [4,3,4],\n",
    "     [3,2,4],\n",
    "     [2,2,2],\n",
    "     [3,3,4],\n",
    "     [1,4,4],\n",
    "     [4,1,1]]\n",
    "solution(A)"
   ]
  },
  {
   "cell_type": "code",
   "execution_count": 25,
   "metadata": {},
   "outputs": [
    {
     "name": "stdout",
     "output_type": "stream",
     "text": [
      "14\n"
     ]
    }
   ],
   "source": []
  },
  {
   "cell_type": "code",
   "execution_count": 18,
   "metadata": {},
   "outputs": [
    {
     "name": "stdout",
     "output_type": "stream",
     "text": [
      "4\n"
     ]
    }
   ],
   "source": [
    "print(A[0][2])"
   ]
  },
  {
   "cell_type": "code",
   "execution_count": null,
   "metadata": {
    "collapsed": true
   },
   "outputs": [],
   "source": []
  }
 ],
 "metadata": {
  "kernelspec": {
   "display_name": "Python 3",
   "language": "python",
   "name": "python3"
  },
  "language_info": {
   "codemirror_mode": {
    "name": "ipython",
    "version": 3
   },
   "file_extension": ".py",
   "mimetype": "text/x-python",
   "name": "python",
   "nbconvert_exporter": "python",
   "pygments_lexer": "ipython3",
   "version": "3.6.3"
  }
 },
 "nbformat": 4,
 "nbformat_minor": 2
}
