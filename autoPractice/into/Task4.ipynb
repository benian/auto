{
 "cells": [
  {
   "cell_type": "code",
   "execution_count": 93,
   "metadata": {
    "collapsed": true
   },
   "outputs": [],
   "source": [
    "def solution(A, K):\n",
    "    n = len(A)\n",
    "    best = 1\n",
    "    count = 1\n",
    "    for i in range(n - K - 1):\n",
    "        if (A[i] == A[i + 1]):\n",
    "            count = count + 1\n",
    "        else:\n",
    "            count = 1\n",
    "        best = max(best, count)\n",
    "        print (best)\n",
    "    result = min(best + K, n) \n",
    "    \n",
    "\n",
    "    return result"
   ]
  },
  {
   "cell_type": "code",
   "execution_count": 107,
   "metadata": {},
   "outputs": [
    {
     "name": "stdout",
     "output_type": "stream",
     "text": [
      "10\n"
     ]
    }
   ],
   "source": [
    "#A = [1, 1, 1, 1, 1, 1, 1, 1, 1,2]  #\n",
    "A = [1, 1, 3, 3, 3, 4, 5, 5, 5, 5]\n",
    "K = 10\n",
    "\n",
    "print(solution(A,K))"
   ]
  },
  {
   "cell_type": "code",
   "execution_count": null,
   "metadata": {
    "collapsed": true
   },
   "outputs": [],
   "source": []
  }
 ],
 "metadata": {
  "kernelspec": {
   "display_name": "Python 3",
   "language": "python",
   "name": "python3"
  },
  "language_info": {
   "codemirror_mode": {
    "name": "ipython",
    "version": 3
   },
   "file_extension": ".py",
   "mimetype": "text/x-python",
   "name": "python",
   "nbconvert_exporter": "python",
   "pygments_lexer": "ipython3",
   "version": "3.6.3"
  }
 },
 "nbformat": 4,
 "nbformat_minor": 2
}
