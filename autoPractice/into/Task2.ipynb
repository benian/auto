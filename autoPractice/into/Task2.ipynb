{
 "cells": [
  {
   "cell_type": "markdown",
   "metadata": {},
   "source": [
    "3台加油機\n",
    "3台都不夠油要等其他車來補油\n",
    "3台都不夠油要一直等\n",
    "1秒加一升"
   ]
  },
  {
   "cell_type": "code",
   "execution_count": 91,
   "metadata": {},
   "outputs": [],
   "source": [
    "def issufficient(fuelLeft,demand):\n",
    "    if (fuelLeft[0] < demand) & (fuelLeft[1] < demand) & (fuelLeft[2] < demand):\n",
    "        return(-1)\n",
    "    else:\n",
    "        return(1)\n",
    "\n",
    "def checkAvailDis(available, fuelLeft,demand):\n",
    "    \n",
    "    for i in range(3):\n",
    "        (fuelLeft[i] >= demand)\n",
    "  #      print (available[i],fuelLeft[i],demand )\n",
    "        if (available[i] == 1) & (fuelLeft[i] >= demand):\n",
    "            return(i)\n",
    "    \n",
    "    return(-1)\n",
    "\n",
    "\n",
    "def solution(A, X, Y, Z):\n",
    "     \n",
    "    fuelLeft = [X,Y,Z]\n",
    "    available = [1,1,1]\n",
    "    wait = []\n",
    "    task = []\n",
    "    #print(fuelLeft)\n",
    "    for demand in A:\n",
    "        time = 0\n",
    "        issuff = issufficient(fuelLeft, demand)\n",
    "        #print(issuff)\n",
    "        if (issuff == -1):\n",
    "            return (-1)\n",
    "        \n",
    "        avialDis = -1\n",
    "        while (avialDis ==-1):\n",
    "            avialDis = checkAvailDis(available, fuelLeft, demand)\n",
    "            if avialDis == -1:\n",
    "                temp = task.pop(0)\n",
    "                available[temp[0]] = 1\n",
    "                time = temp[1]\n",
    "                #print(\"wait\", time, fuelLeft, wait)\n",
    "        \n",
    "        available[avialDis] = 0\n",
    "        fuelLeft[avialDis] = fuelLeft[avialDis] - demand \n",
    "        task.append([avialDis,demand])\n",
    "        #print (demand ,\"go\", avialDis, fuelLeft)\n",
    "                \n",
    "        wait.append(time)\n",
    "        \n",
    "            \n",
    "    return(max(wait))\n"
   ]
  },
  {
   "cell_type": "code",
   "execution_count": 92,
   "metadata": {},
   "outputs": [
    {
     "name": "stdout",
     "output_type": "stream",
     "text": [
      "8\n"
     ]
    }
   ],
   "source": [
    "A = [2,8,4,3,2] # 車要加的油\n",
    "X = 7 \n",
    "Y = 11\n",
    "Z = 3\n",
    "\n",
    "print(solution(A,X,Y,Z))"
   ]
  },
  {
   "cell_type": "code",
   "execution_count": null,
   "metadata": {
    "collapsed": true
   },
   "outputs": [],
   "source": []
  }
 ],
 "metadata": {
  "kernelspec": {
   "display_name": "Python 3",
   "language": "python",
   "name": "python3"
  },
  "language_info": {
   "codemirror_mode": {
    "name": "ipython",
    "version": 3
   },
   "file_extension": ".py",
   "mimetype": "text/x-python",
   "name": "python",
   "nbconvert_exporter": "python",
   "pygments_lexer": "ipython3",
   "version": "3.6.3"
  }
 },
 "nbformat": 4,
 "nbformat_minor": 2
}
