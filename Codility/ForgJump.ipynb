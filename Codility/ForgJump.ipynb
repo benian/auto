{
 "cells": [
  {
   "cell_type": "markdown",
   "metadata": {},
   "source": [
    "A small frog wants to get to the other side of the road. The frog is currently located at position X and wants to get to a position greater than or equal to Y. The small frog always jumps a fixed distance, D.\n",
    "\n",
    "Count the minimal number of jumps that the small frog must perform to reach its target.\n",
    "\n",
    "Write a function:\n",
    "\n",
    "def solution(X, Y, D)\n",
    "\n",
    "that, given three integers X, Y and D, returns the minimal number of jumps from position X to a position equal to or greater than Y.\n",
    "\n",
    "For example, given:\n",
    "\n",
    "  X = 10\n",
    "  Y = 85\n",
    "  D = 30\n",
    "the function should return 3, because the frog will be positioned as follows:\n",
    "\n",
    "after the first jump, at position 10 + 30 = 40\n",
    "after the second jump, at position 10 + 30 + 30 = 70\n",
    "after the third jump, at position 10 + 30 + 30 + 30 = 100\n",
    "Assume that:\n",
    "\n",
    "X, Y and D are integers within the range [1..1,000,000,000];\n",
    "X ≤ Y.\n",
    "Complexity:\n",
    "\n",
    "expected worst-case time complexity is O(1);\n",
    "expected worst-case space complexity is O(1)."
   ]
  },
  {
   "cell_type": "code",
   "execution_count": 7,
   "metadata": {
    "collapsed": true
   },
   "outputs": [],
   "source": [
    "# you can write to stdout for debugging purposes, e.g.\n",
    "# print(\"this is a debug message\")\n",
    "\n",
    "def solution(X, Y, D):\n",
    "    times = int((Y - X)/D)\n",
    "    if ((Y - X)%D)!= 0:\n",
    "        times += 1\n",
    "    return(times)    \n",
    "    "
   ]
  },
  {
   "cell_type": "code",
   "execution_count": 10,
   "metadata": {},
   "outputs": [
    {
     "name": "stdout",
     "output_type": "stream",
     "text": [
      "4\n"
     ]
    }
   ],
   "source": [
    "X = 10\n",
    "Y = 101\n",
    "D = 30\n",
    "print(solution(X,Y,D))"
   ]
  },
  {
   "cell_type": "code",
   "execution_count": null,
   "metadata": {
    "collapsed": true
   },
   "outputs": [],
   "source": []
  }
 ],
 "metadata": {
  "kernelspec": {
   "display_name": "Python 3",
   "language": "python",
   "name": "python3"
  },
  "language_info": {
   "codemirror_mode": {
    "name": "ipython",
    "version": 3
   },
   "file_extension": ".py",
   "mimetype": "text/x-python",
   "name": "python",
   "nbconvert_exporter": "python",
   "pygments_lexer": "ipython3",
   "version": "3.6.3"
  }
 },
 "nbformat": 4,
 "nbformat_minor": 2
}
