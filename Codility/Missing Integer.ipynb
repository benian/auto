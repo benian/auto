{
 "cells": [
  {
   "cell_type": "markdown",
   "metadata": {},
   "source": [
    "This is a demo task.\n",
    "\n",
    "Write a function:\n",
    "\n",
    "def solution(A)\n",
    "\n",
    "that, given an array A of N integers, returns the smallest positive integer (greater than 0) that does not occur in A.\n",
    "\n",
    "For example, given A = [1, 3, 6, 4, 1, 2], the function should return 5.\n",
    "\n",
    "Given A = [1, 2, 3], the function should return 4.\n",
    "\n",
    "Given A = [−1, −3], the function should return 1.\n",
    "\n",
    "Assume that:\n",
    "\n",
    "N is an integer within the range [1..100,000];\n",
    "each element of array A is an integer within the range [−1,000,000..1,000,000].\n",
    "Complexity:\n",
    "\n",
    "expected worst-case time complexity is O(N);\n",
    "expected worst-case space complexity is O(N) (not counting the storage required for input arguments)."
   ]
  },
  {
   "cell_type": "code",
   "execution_count": 2,
   "metadata": {
    "collapsed": true
   },
   "outputs": [],
   "source": [
    "# you can write to stdout for debugging purposes, e.g.\n",
    "# print(\"this is a debug message\")\n",
    "\n",
    "def solution(A):\n",
    "    # write your code in Python 3.6\n",
    "    for num in range(1, 1000001):\n",
    "        if num not in A:\n",
    "            return num\n",
    "        continue\n",
    "        \n",
    "        "
   ]
  },
  {
   "cell_type": "code",
   "execution_count": 4,
   "metadata": {},
   "outputs": [
    {
     "name": "stdout",
     "output_type": "stream",
     "text": [
      "1\n"
     ]
    }
   ],
   "source": [
    "A = [0, 3, 6, 4, 0, 2]\n",
    "print(solution(A))\n"
   ]
  },
  {
   "cell_type": "code",
   "execution_count": null,
   "metadata": {
    "collapsed": true
   },
   "outputs": [],
   "source": []
  }
 ],
 "metadata": {
  "kernelspec": {
   "display_name": "Python 3",
   "language": "python",
   "name": "python3"
  },
  "language_info": {
   "codemirror_mode": {
    "name": "ipython",
    "version": 3
   },
   "file_extension": ".py",
   "mimetype": "text/x-python",
   "name": "python",
   "nbconvert_exporter": "python",
   "pygments_lexer": "ipython3",
   "version": "3.6.3"
  }
 },
 "nbformat": 4,
 "nbformat_minor": 2
}
