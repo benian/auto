{
 "cells": [
  {
   "cell_type": "code",
   "execution_count": 1,
   "metadata": {},
   "outputs": [
    {
     "name": "stdout",
     "output_type": "stream",
     "text": [
      "7.46\n",
      "13.569999999999999\n",
      "17.7\n",
      "19.849999999999998\n",
      "20.47\n",
      "20.189999999999998\n",
      "19.459999999999997\n",
      "18.55\n",
      "17.549999999999997\n",
      "5 20\n"
     ]
    }
   ],
   "source": [
    "'''c = int(input(\"unit cost = \"))\n",
    "r = int(input(\"retail price = \"))\n",
    "s = int(input(\"salvage value = \"))\n",
    "D = int(input(\"Demend = \"))\n",
    "#q = int(input(\"order quantity = \"))'''\n",
    "c = 2\n",
    "r = 10\n",
    "D = 10\n",
    "s = 1\n",
    "\n",
    "optorder = 0\n",
    "maxprofit = 0\n",
    "\n",
    "chance = [0.06, 0.15, 0.22, 0.22, 0.17, 0.10, 0.05, 0.02, 0.01, 0, 0]\n",
    " #insert chance list\n",
    "'''chance = []\n",
    "for i in range(N):\n",
    "   chance.append (input().split())\n",
    "   chance[i] = int(chance[i])'''\n",
    "   \n",
    "for q in range(1,D): #假設進q份\n",
    "\tttlprofit = 0 \n",
    "\tfor i in range(q): #q 份裡賣出i 份\n",
    "\t\t#if q < D:\n",
    "\t\t\tprofit = ((i*r)-(c*q)+s*(q-i))*chance[i]\n",
    "\t\t\tttlprofit = ttlprofit + profit\n",
    "\t\t\t#print(profit)\n",
    "\t\t#else:\n",
    "\t\t#\tprofit= ((i*r)-(c*D))*chance[i]\n",
    "\t\t#\tttlprofit = ttlprofit + profit\t\n",
    "\t\t#print(profit)\n",
    "\tpi = 1\t\n",
    "\tfor i in range(q):\n",
    "            pi = (pi - chance[i])\n",
    "\t\t\t#calculate the accumulated chance of selling out all\n",
    "\tpq = pi*((q*r)-(c*q))\n",
    "\t#print(pq)\n",
    "\tttlprofit = ttlprofit + pq\n",
    "\tprint(ttlprofit)\n",
    "\t\n",
    "\tif ttlprofit > maxprofit:\n",
    "\t\tmaxprofit = ttlprofit\n",
    "\t\toptorder = q\n",
    "\t\n",
    "print(int(optorder) , int(maxprofit))\n"
   ]
  },
  {
   "cell_type": "code",
   "execution_count": null,
   "metadata": {
    "collapsed": true
   },
   "outputs": [],
   "source": []
  }
 ],
 "metadata": {
  "kernelspec": {
   "display_name": "Python 3",
   "language": "python",
   "name": "python3"
  },
  "language_info": {
   "codemirror_mode": {
    "name": "ipython",
    "version": 3
   },
   "file_extension": ".py",
   "mimetype": "text/x-python",
   "name": "python",
   "nbconvert_exporter": "python",
   "pygments_lexer": "ipython3",
   "version": "3.6.3"
  }
 },
 "nbformat": 4,
 "nbformat_minor": 2
}
