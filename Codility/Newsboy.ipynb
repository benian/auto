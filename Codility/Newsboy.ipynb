{
 "cells": [
  {
   "cell_type": "code",
   "execution_count": 3,
   "metadata": {
    "collapsed": true
   },
   "outputs": [],
   "source": [
    "chance = [0.06, 0.15, 0.22, 0.22, 0.17, 0.10, 0.05, 0.02, 0.01]\n",
    "\n",
    "c = 2\n",
    "r = 10\n",
    "N = 8\n",
    "\n",
    "#q = 2\n",
    "\n",
    "def getttlprofit(q): \n",
    "    totalProfit = 0\n",
    "    pi = 0\n",
    "    num = 0\n",
    "    profitlist = []\n",
    "    for i in range(q):   \n",
    "        pi = ((r*i) - c*q)*chance[i] \n",
    "        profitlist.append(pi)\n",
    "        totalProfit = totalProfit + pi\n",
    "    #chanceQup = sum(chance[q:])\n",
    "    chanceQup = 0 \n",
    "    for num in range(q, N+1):\n",
    "        chanceQup = chanceQup + chance[num]\n",
    "\n",
    "    pq = ((r*q) - c*q)*chanceQup \n",
    "    totalProfit = totalProfit + pq\n",
    "    return (totalProfit) \n"
   ]
  },
  {
   "cell_type": "code",
   "execution_count": 4,
   "metadata": {},
   "outputs": [
    {
     "name": "stdout",
     "output_type": "stream",
     "text": [
      "4 18\n"
     ]
    }
   ],
   "source": [
    "maxprofit = 0 \n",
    "optorder = 0\n",
    "for q in range(1,9):    \n",
    "    totalProfit = getttlprofit(q)\n",
    "    if totalProfit > maxprofit:\n",
    "        maxprofit = totalProfit\n",
    "        optorder = q\n",
    "        \n",
    "print(optorder, int(maxprofit))\n",
    "    \n"
   ]
  },
  {
   "cell_type": "markdown",
   "metadata": {},
   "source": [
    "### sum(chance[7:])"
   ]
  },
  {
   "cell_type": "code",
   "execution_count": 42,
   "metadata": {},
   "outputs": [
    {
     "data": {
      "text/plain": [
       "range(0, 2)"
      ]
     },
     "execution_count": 42,
     "metadata": {},
     "output_type": "execute_result"
    }
   ],
   "source": [
    "range(q)"
   ]
  },
  {
   "cell_type": "code",
   "execution_count": null,
   "metadata": {
    "collapsed": true
   },
   "outputs": [],
   "source": []
  }
 ],
 "metadata": {
  "kernelspec": {
   "display_name": "Python 3",
   "language": "python",
   "name": "python3"
  },
  "language_info": {
   "codemirror_mode": {
    "name": "ipython",
    "version": 3
   },
   "file_extension": ".py",
   "mimetype": "text/x-python",
   "name": "python",
   "nbconvert_exporter": "python",
   "pygments_lexer": "ipython3",
   "version": "3.6.3"
  }
 },
 "nbformat": 4,
 "nbformat_minor": 2
}
