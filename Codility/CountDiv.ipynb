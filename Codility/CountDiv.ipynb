{
 "cells": [
  {
   "cell_type": "markdown",
   "metadata": {},
   "source": [
    "Write a function:\n",
    "\n",
    "def solution(A, B, K)\n",
    "\n",
    "that, given three integers A, B and K, returns the number of integers within the range [A..B] that are divisible by K, i.e.:\n",
    "\n",
    "{ i : A ≤ i ≤ B, i mod K = 0 }\n",
    "\n",
    "For example, for A = 6, B = 11 and K = 2, your function should return 3, because there are three numbers divisible by 2 within the range [6..11], namely 6, 8 and 10.\n",
    "\n",
    "Assume that:\n",
    "\n",
    "A and B are integers within the range [0..2,000,000,000];\n",
    "K is an integer within the range [1..2,000,000,000];\n",
    "A ≤ B.\n",
    "Complexity:\n",
    "\n",
    "expected worst-case time complexity is O(1);\n",
    "expected worst-case space complexity is O(1).\n",
    "Copyright 2009–2018 by Codility Limited. All Rights Reserved. Unauthorized copying, publication or disclosure prohibited."
   ]
  },
  {
   "cell_type": "code",
   "execution_count": 79,
   "metadata": {},
   "outputs": [
    {
     "data": {
      "text/plain": [
       "'\\n    if A%K ==0:\\n        counter +=1\\n    if (A!=B):\\n        if B%K ==0:\\n            counter +=1    \\n    counter = counter + int((B-A)/K)\\n    \\n    #print((B-A)/K)\\n    #temp = int((B - A)/K) + 1\\n\\n    return(counter)\\n    '"
      ]
     },
     "execution_count": 79,
     "metadata": {},
     "output_type": "execute_result"
    }
   ],
   "source": [
    "def solution(A, B, K):\n",
    "    counter = 0\n",
    "    curr = 0\n",
    "    for i in range(A,B+1):\n",
    "        if i%K ==0:\n",
    "            curr = i\n",
    "            counter = counter +1\n",
    "            break\n",
    "            \n",
    "    right = int((B-curr)/K)\n",
    "    counter = counter + right\n",
    "    return (counter)\n",
    "            \n",
    "'''\n",
    "    if A%K ==0:\n",
    "        counter +=1\n",
    "    if (A!=B):\n",
    "        if B%K ==0:\n",
    "            counter +=1    \n",
    "    counter = counter + int((B-A)/K)\n",
    "    \n",
    "    #print((B-A)/K)\n",
    "    #temp = int((B - A)/K) + 1\n",
    "\n",
    "    return(counter)\n",
    "    '''"
   ]
  },
  {
   "cell_type": "code",
   "execution_count": 82,
   "metadata": {},
   "outputs": [
    {
     "name": "stdout",
     "output_type": "stream",
     "text": [
      "1\n"
     ]
    }
   ],
   "source": [
    "A = 10\n",
    "B = 10\n",
    "K = 5\n",
    "\n",
    "print(solution(A,B,K))"
   ]
  },
  {
   "cell_type": "code",
   "execution_count": null,
   "metadata": {
    "collapsed": true
   },
   "outputs": [],
   "source": []
  }
 ],
 "metadata": {
  "kernelspec": {
   "display_name": "Python 3",
   "language": "python",
   "name": "python3"
  },
  "language_info": {
   "codemirror_mode": {
    "name": "ipython",
    "version": 3
   },
   "file_extension": ".py",
   "mimetype": "text/x-python",
   "name": "python",
   "nbconvert_exporter": "python",
   "pygments_lexer": "ipython3",
   "version": "3.6.3"
  }
 },
 "nbformat": 4,
 "nbformat_minor": 2
}
