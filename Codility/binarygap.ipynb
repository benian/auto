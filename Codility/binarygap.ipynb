{
 "cells": [
  {
   "cell_type": "markdown",
   "metadata": {},
   "source": [
    "A binary gap within a positive integer N is any maximal sequence of consecutive zeros that is surrounded by ones at both ends in the binary representation of N.\n",
    "\n",
    "For example, number 9 has binary representation 1001 and contains a binary gap of length 2. The number 529 has binary representation 1000010001 and contains two binary gaps: one of length 4 and one of length 3. The number 20 has binary representation 10100 and contains one binary gap of length 1. The number 15 has binary representation 1111 and has no binary gaps. The number 32 has binary representation 100000 and has no binary gaps.\n",
    "\n",
    "Write a function:\n",
    "\n",
    "def solution(N)\n",
    "\n",
    "that, given a positive integer N, returns the length of its longest binary gap. The function should return 0 if N doesn't contain a binary gap.\n",
    "\n",
    "For example, given N = 1041 the function should return 5, because N has binary representation 10000010001 and so its longest binary gap is of length 5. Given N = 32 the function should return 0, because N has binary representation '100000' and thus no binary gaps.\n",
    "\n",
    "Assume that:\n",
    "\n",
    "N is an integer within the range [1..2,147,483,647].\n",
    "Complexity:\n",
    "\n",
    "expected worst-case time complexity is O(log(N));\n",
    "expected worst-case space complexity is O(1)."
   ]
  },
  {
   "cell_type": "code",
   "execution_count": 37,
   "metadata": {},
   "outputs": [],
   "source": [
    "# you can write to stdout for debugging purposes, e.g.\n",
    "# print(\"this is a debug message\")\n",
    "\n",
    "def checkone(bintext):\n",
    "    one = []\n",
    "    for num in range(0,len(bintext)):\n",
    "        if (bintext[num] ==\"1\"):\n",
    "            one.append(num)            \n",
    "    return one\n",
    "        \n",
    "def checkmostgap(onelist):\n",
    "    mostgap = 0 \n",
    "    if len(onelist) == 1:\n",
    "        return 0\n",
    "    for num in range(0,len(onelist)-1):\n",
    "        gap = onelist[num + 1] - onelist[num] - 1\n",
    "        if gap > mostgap:\n",
    "            mostgap = gap            \n",
    "    return mostgap\n",
    "    \n",
    "\n",
    "def solution(N):\n",
    "    # write your code in Python 3.6\n",
    "    binary = (bin(N)[2:])\n",
    "    #print(len(binary))\n",
    "    one = checkone(binary)\n",
    "    mostgap = checkmostgap(one)\n",
    "    return mostgap"
   ]
  },
  {
   "cell_type": "code",
   "execution_count": 41,
   "metadata": {},
   "outputs": [
    {
     "name": "stdout",
     "output_type": "stream",
     "text": [
      "11110100001001000001\n",
      "5\n"
     ]
    }
   ],
   "source": [
    "A =1000001\n",
    "print(bin(A)[2:])\n",
    "print(solution(A)) "
   ]
  },
  {
   "cell_type": "code",
   "execution_count": null,
   "metadata": {
    "collapsed": true
   },
   "outputs": [],
   "source": []
  }
 ],
 "metadata": {
  "kernelspec": {
   "display_name": "Python 3",
   "language": "python",
   "name": "python3"
  },
  "language_info": {
   "codemirror_mode": {
    "name": "ipython",
    "version": 3
   },
   "file_extension": ".py",
   "mimetype": "text/x-python",
   "name": "python",
   "nbconvert_exporter": "python",
   "pygments_lexer": "ipython3",
   "version": "3.6.3"
  }
 },
 "nbformat": 4,
 "nbformat_minor": 2
}
