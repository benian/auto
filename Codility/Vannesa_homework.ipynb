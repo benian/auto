{
 "cells": [
  {
   "cell_type": "code",
   "execution_count": 5,
   "metadata": {},
   "outputs": [
    {
     "name": "stdout",
     "output_type": "stream",
     "text": [
      "['0.06', '0.15', '0.22', '0.22', '0.17', '0.10', '0.05', '0.02', '0.01']\n",
      "0.06\n",
      "0.15\n",
      "0.22\n",
      "0.22\n",
      "0.17\n",
      "0.10\n",
      "0.05\n",
      "0.02\n",
      "0.01\n"
     ]
    }
   ],
   "source": [
    "str1 = \"0.06,0.15,0.22,0.22,0.17,0.10,0.05,0.02,0.01\"\n",
    "str2 = str1.split(\",\")\n",
    "print (str2)\n",
    "\n",
    "for item in str2:\n",
    "\n",
    "    print (item)"
   ]
  },
  {
   "cell_type": "code",
   "execution_count": 29,
   "metadata": {},
   "outputs": [
    {
     "name": "stdout",
     "output_type": "stream",
     "text": [
      "-0.06\n",
      "7.52\n",
      "7.46\n",
      "1.05\n",
      "12.639999999999999\n",
      "13.569999999999999\n",
      "3.3\n",
      "13.68\n",
      "17.7\n",
      "5.06\n",
      "11.2\n",
      "19.849999999999998\n",
      "5.2700000000000005\n",
      "7.199999999999998\n",
      "20.47\n",
      "3.9000000000000004\n",
      "3.839999999999998\n",
      "20.189999999999998\n",
      "2.35\n",
      "1.6799999999999975\n",
      "19.459999999999997\n",
      "1.1\n",
      "0.6399999999999972\n",
      "18.55\n",
      "0.63\n",
      "-3.1225022567582528e-15\n",
      "17.549999999999997\n",
      "5 20\n"
     ]
    }
   ],
   "source": [
    "######## 把資料從檔案讀進來\n",
    "input_list = []\n",
    "with open(\"input_wk6.txt\", \"r\", errors=\"ignore\") as handle:\n",
    "    for line in handle:\n",
    "        input_list.append(line)\n",
    "        \n",
    "#########處理讀進來的資料～\n",
    "\n",
    "\n",
    "######### 抓c,r,D,s 的資料～\n",
    "c = int(input_list[0])\n",
    "r = int(input_list[1])\n",
    "D = int(input_list[2])\n",
    "s = int(input_list[3])\n",
    "\n",
    "\n",
    "#######抓chance 的資料～\n",
    "chance=[]\n",
    "for i in input_list[4:]:\n",
    "    chance.append(float(i))\n",
    "\n",
    "optorder = 0\n",
    "maxprofit = 0\n",
    "\n",
    "for q in range(1,D):\n",
    "        ttlprofit = 0\n",
    "        for i in range(q):\n",
    "                profit = ((i*r)-(c*q)+s*(q-i))*chance[i]\n",
    "                ttlprofit = ttlprofit + profit\n",
    "        print(profit)\n",
    "\n",
    "        pi = 1\n",
    "        for i in range(q):\n",
    "            pi = (pi - chance[i])\n",
    "                #calculate the accumulated chance of selling out all\n",
    "        pq = pi*((q*r)-(c*q))\n",
    "        print(pq)\n",
    "        ttlprofit = ttlprofit + pq\n",
    "        print(ttlprofit)\n",
    "\n",
    "        if ttlprofit > maxprofit:\n",
    "                maxprofit = ttlprofit\n",
    "                optorder = q\n",
    "\n",
    "print(int(optorder) , int(maxprofit))\n",
    "\n"
   ]
  },
  {
   "cell_type": "code",
   "execution_count": 28,
   "metadata": {},
   "outputs": [
    {
     "name": "stdout",
     "output_type": "stream",
     "text": [
      "-0.06\n",
      "7.52\n",
      "7.46\n",
      "1.05\n",
      "12.639999999999999\n",
      "13.569999999999999\n",
      "3.3\n",
      "13.68\n",
      "17.7\n",
      "5.06\n",
      "11.2\n",
      "19.849999999999998\n",
      "5.2700000000000005\n",
      "7.199999999999998\n",
      "20.47\n",
      "3.9000000000000004\n",
      "3.839999999999998\n",
      "20.189999999999998\n",
      "2.35\n",
      "1.6799999999999975\n",
      "19.459999999999997\n",
      "1.1\n",
      "0.6399999999999972\n",
      "18.55\n",
      "0.63\n",
      "-3.1225022567582528e-15\n",
      "17.549999999999997\n",
      "5 20\n"
     ]
    }
   ],
   "source": [
    "optorder = 0\n",
    "maxprofit = 0\n",
    "\n",
    "for q in range(1,D):\n",
    "        ttlprofit = 0\n",
    "        for i in range(q):\n",
    "                profit = ((i*r)-(c*q)+s*(q-i))*chance[i]\n",
    "                ttlprofit = ttlprofit + profit\n",
    "        print(profit)\n",
    "\n",
    "        pi = 1\n",
    "        for i in range(q):\n",
    "            pi = (pi - chance[i])\n",
    "                #calculate the accumulated chance of selling out all\n",
    "        pq = pi*((q*r)-(c*q))\n",
    "        print(pq)\n",
    "        ttlprofit = ttlprofit + pq\n",
    "        print(ttlprofit)\n",
    "\n",
    "        if ttlprofit > maxprofit:\n",
    "                maxprofit = ttlprofit\n",
    "                optorder = q\n",
    "\n",
    "print(int(optorder) , int(maxprofit))\n",
    "\n"
   ]
  },
  {
   "cell_type": "code",
   "execution_count": null,
   "metadata": {
    "collapsed": true
   },
   "outputs": [],
   "source": []
  }
 ],
 "metadata": {
  "kernelspec": {
   "display_name": "Python 3",
   "language": "python",
   "name": "python3"
  },
  "language_info": {
   "codemirror_mode": {
    "name": "ipython",
    "version": 3
   },
   "file_extension": ".py",
   "mimetype": "text/x-python",
   "name": "python",
   "nbconvert_exporter": "python",
   "pygments_lexer": "ipython3",
   "version": "3.6.3"
  }
 },
 "nbformat": 4,
 "nbformat_minor": 2
}
