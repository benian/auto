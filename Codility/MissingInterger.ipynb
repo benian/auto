{
 "cells": [
  {
   "cell_type": "markdown",
   "metadata": {},
   "source": [
    "This is a demo task.\n",
    "\n",
    "Write a function:\n",
    "\n",
    "def solution(A)\n",
    "\n",
    "that, given an array A of N integers, returns the smallest positive integer (greater than 0) that does not occur in A.\n",
    "\n",
    "For example, given A = [1, 3, 6, 4, 1, 2], the function should return 5.\n",
    "\n",
    "Given A = [1, 2, 3], the function should return 4.\n",
    "\n",
    "Given A = [−1, −3], the function should return 1.\n",
    "\n",
    "Assume that:\n",
    "\n",
    "N is an integer within the range [1..100,000];\n",
    "each element of array A is an integer within the range [−1,000,000..1,000,000].\n",
    "Complexity:\n",
    "\n",
    "expected worst-case time complexity is O(N);\n",
    "expected worst-case space complexity is O(N) (not counting the storage required for input arguments).\n"
   ]
  },
  {
   "cell_type": "code",
   "execution_count": 22,
   "metadata": {},
   "outputs": [],
   "source": [
    "def solution(A):\n",
    "    A_set = set(A)\n",
    "    a_list = list(A_set)\n",
    "    a_list.sort()\n",
    "    counter = 1 \n",
    "    for n in a_list:\n",
    "        if n >= 1:\n",
    "            if counter == n:\n",
    "                counter += 1\n",
    "            else:\n",
    "                return (counter)\n",
    "            \n",
    "        continue\n",
    "    \n",
    "    return (counter)\n",
    "    print(a_list)"
   ]
  },
  {
   "cell_type": "code",
   "execution_count": 23,
   "metadata": {},
   "outputs": [
    {
     "name": "stdout",
     "output_type": "stream",
     "text": [
      "5\n"
     ]
    }
   ],
   "source": [
    "A = [1, 3, 6, 4, 1, 2]\n",
    "sol = solution(A)\n",
    "print(sol)"
   ]
  },
  {
   "cell_type": "code",
   "execution_count": null,
   "metadata": {
    "collapsed": true
   },
   "outputs": [],
   "source": []
  }
 ],
 "metadata": {
  "kernelspec": {
   "display_name": "Python 3",
   "language": "python",
   "name": "python3"
  },
  "language_info": {
   "codemirror_mode": {
    "name": "ipython",
    "version": 3
   },
   "file_extension": ".py",
   "mimetype": "text/x-python",
   "name": "python",
   "nbconvert_exporter": "python",
   "pygments_lexer": "ipython3",
   "version": "3.6.3"
  }
 },
 "nbformat": 4,
 "nbformat_minor": 2
}
